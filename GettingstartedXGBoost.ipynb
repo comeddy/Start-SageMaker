{
 "cells": [
  {
   "cell_type": "code",
   "execution_count": 1,
   "id": "f03a41f5-9903-451c-bedb-3bf074c223ad",
   "metadata": {},
   "outputs": [
    {
     "name": "stdout",
     "output_type": "stream",
     "text": [
      "Looking in indexes: https://pypi.org/simple, https://pip.repos.neuron.amazonaws.com\n",
      "Requirement already satisfied: sagemaker in /home/ec2-user/anaconda3/envs/python3/lib/python3.8/site-packages (2.92.1)\n",
      "Collecting sagemaker\n",
      "  Downloading sagemaker-2.96.0.tar.gz (534 kB)\n",
      "\u001b[2K     \u001b[90m━━━━━━━━━━━━━━━━━━━━━━━━━━━━━━━━━━━━━━━\u001b[0m \u001b[32m534.4/534.4 KB\u001b[0m \u001b[31m4.4 MB/s\u001b[0m eta \u001b[36m0:00:00\u001b[0m00:01\u001b[0m00:01\u001b[0m\n",
      "\u001b[?25h  Preparing metadata (setup.py) ... \u001b[?25ldone\n",
      "\u001b[?25hRequirement already satisfied: attrs==20.3.0 in /home/ec2-user/anaconda3/envs/python3/lib/python3.8/site-packages (from sagemaker) (20.3.0)\n",
      "Requirement already satisfied: boto3<2.0,>=1.20.21 in /home/ec2-user/anaconda3/envs/python3/lib/python3.8/site-packages (from sagemaker) (1.23.10)\n",
      "Requirement already satisfied: google-pasta in /home/ec2-user/anaconda3/envs/python3/lib/python3.8/site-packages (from sagemaker) (0.2.0)\n",
      "Requirement already satisfied: numpy<2.0,>=1.9.0 in /home/ec2-user/anaconda3/envs/python3/lib/python3.8/site-packages (from sagemaker) (1.20.3)\n",
      "Requirement already satisfied: protobuf<4.0,>=3.1 in /home/ec2-user/anaconda3/envs/python3/lib/python3.8/site-packages (from sagemaker) (3.19.1)\n",
      "Requirement already satisfied: protobuf3-to-dict<1.0,>=0.1.5 in /home/ec2-user/anaconda3/envs/python3/lib/python3.8/site-packages (from sagemaker) (0.1.5)\n",
      "Requirement already satisfied: smdebug_rulesconfig==1.0.1 in /home/ec2-user/anaconda3/envs/python3/lib/python3.8/site-packages (from sagemaker) (1.0.1)\n",
      "Requirement already satisfied: importlib-metadata<5.0,>=1.4.0 in /home/ec2-user/anaconda3/envs/python3/lib/python3.8/site-packages (from sagemaker) (1.7.0)\n",
      "Requirement already satisfied: packaging>=20.0 in /home/ec2-user/anaconda3/envs/python3/lib/python3.8/site-packages (from sagemaker) (21.3)\n",
      "Requirement already satisfied: pandas in /home/ec2-user/anaconda3/envs/python3/lib/python3.8/site-packages (from sagemaker) (1.3.4)\n",
      "Requirement already satisfied: pathos in /home/ec2-user/anaconda3/envs/python3/lib/python3.8/site-packages (from sagemaker) (0.2.8)\n",
      "Collecting botocore<1.27.0,>=1.26.10\n",
      "  Using cached botocore-1.26.10-py3-none-any.whl (8.8 MB)\n",
      "Requirement already satisfied: s3transfer<0.6.0,>=0.5.0 in /home/ec2-user/anaconda3/envs/python3/lib/python3.8/site-packages (from boto3<2.0,>=1.20.21->sagemaker) (0.5.2)\n",
      "Requirement already satisfied: jmespath<2.0.0,>=0.7.1 in /home/ec2-user/anaconda3/envs/python3/lib/python3.8/site-packages (from boto3<2.0,>=1.20.21->sagemaker) (0.10.0)\n",
      "Requirement already satisfied: zipp>=0.5 in /home/ec2-user/anaconda3/envs/python3/lib/python3.8/site-packages (from importlib-metadata<5.0,>=1.4.0->sagemaker) (3.6.0)\n",
      "Requirement already satisfied: pyparsing!=3.0.5,>=2.0.2 in /home/ec2-user/anaconda3/envs/python3/lib/python3.8/site-packages (from packaging>=20.0->sagemaker) (3.0.6)\n",
      "Requirement already satisfied: six in /home/ec2-user/anaconda3/envs/python3/lib/python3.8/site-packages (from protobuf3-to-dict<1.0,>=0.1.5->sagemaker) (1.16.0)\n",
      "Requirement already satisfied: python-dateutil>=2.7.3 in /home/ec2-user/anaconda3/envs/python3/lib/python3.8/site-packages (from pandas->sagemaker) (2.8.2)\n",
      "Requirement already satisfied: pytz>=2017.3 in /home/ec2-user/anaconda3/envs/python3/lib/python3.8/site-packages (from pandas->sagemaker) (2021.3)\n",
      "Requirement already satisfied: pox>=0.3.0 in /home/ec2-user/anaconda3/envs/python3/lib/python3.8/site-packages (from pathos->sagemaker) (0.3.0)\n",
      "Requirement already satisfied: multiprocess>=0.70.12 in /home/ec2-user/anaconda3/envs/python3/lib/python3.8/site-packages (from pathos->sagemaker) (0.70.12.2)\n",
      "Requirement already satisfied: dill>=0.3.4 in /home/ec2-user/anaconda3/envs/python3/lib/python3.8/site-packages (from pathos->sagemaker) (0.3.4)\n",
      "Requirement already satisfied: ppft>=1.6.6.4 in /home/ec2-user/anaconda3/envs/python3/lib/python3.8/site-packages (from pathos->sagemaker) (1.6.6.4)\n",
      "Requirement already satisfied: urllib3<1.27,>=1.25.4 in /home/ec2-user/anaconda3/envs/python3/lib/python3.8/site-packages (from botocore<1.27.0,>=1.26.10->boto3<2.0,>=1.20.21->sagemaker) (1.26.8)\n",
      "Building wheels for collected packages: sagemaker\n",
      "  Building wheel for sagemaker (setup.py) ... \u001b[?25ldone\n",
      "\u001b[?25h  Created wheel for sagemaker: filename=sagemaker-2.96.0-py2.py3-none-any.whl size=747388 sha256=ac84e7302f7e3a2c6c3a9dcd954567258f19cdf072f2573d8f120e49ada2173c\n",
      "  Stored in directory: /home/ec2-user/.cache/pip/wheels/85/f0/6e/27188ffde539234dc8ab05d24ec0f29162e84352ac6770b6d6\n",
      "Successfully built sagemaker\n",
      "Installing collected packages: botocore, sagemaker\n",
      "  Attempting uninstall: botocore\n",
      "    Found existing installation: botocore 1.24.19\n",
      "    Uninstalling botocore-1.24.19:\n",
      "      Successfully uninstalled botocore-1.24.19\n",
      "  Attempting uninstall: sagemaker\n",
      "    Found existing installation: sagemaker 2.92.1\n",
      "    Uninstalling sagemaker-2.92.1:\n",
      "      Successfully uninstalled sagemaker-2.92.1\n",
      "\u001b[31mERROR: pip's dependency resolver does not currently take into account all the packages that are installed. This behaviour is the source of the following dependency conflicts.\n",
      "aiobotocore 2.0.1 requires botocore<1.22.9,>=1.22.8, but you have botocore 1.26.10 which is incompatible.\u001b[0m\u001b[31m\n",
      "\u001b[0mSuccessfully installed botocore-1.26.10 sagemaker-2.96.0\n",
      "\u001b[33mWARNING: You are using pip version 22.0.4; however, version 22.1.2 is available.\n",
      "You should consider upgrading via the '/home/ec2-user/anaconda3/envs/python3/bin/python -m pip install --upgrade pip' command.\u001b[0m\u001b[33m\n",
      "\u001b[0m"
     ]
    }
   ],
   "source": [
    "!pip install --upgrade sagemaker"
   ]
  },
  {
   "cell_type": "code",
   "execution_count": 5,
   "id": "a9196499-bd25-4c78-a0e4-38f967baa363",
   "metadata": {},
   "outputs": [
    {
     "name": "stderr",
     "output_type": "stream",
     "text": [
      "Matplotlib is building the font cache; this may take a moment.\n"
     ]
    },
    {
     "name": "stdout",
     "output_type": "stream",
     "text": [
      "Success - the MySageMakerInstance is in the us-east-1 region. You will use the 811284229777.dkr.ecr.us-east-1.amazonaws.com/xgboost:latest container for your SageMaker endpoint.\n"
     ]
    }
   ],
   "source": [
    "# import libraries\n",
    "import boto3, re, sys, math, json, os, sagemaker, urllib.request\n",
    "from sagemaker import get_execution_role\n",
    "import numpy as np                                \n",
    "import pandas as pd                               \n",
    "import matplotlib.pyplot as plt                   \n",
    "from IPython.display import Image                 \n",
    "from IPython.display import display               \n",
    "from time import gmtime, strftime                 \n",
    "from sagemaker.predictor import csv_serializer   \n",
    "\n",
    "# Define IAM role\n",
    "role = get_execution_role()\n",
    "prefix = 'sagemaker/DEMO-xgboost-dm'\n",
    "containers = {'us-west-2': '433757028032.dkr.ecr.us-west-2.amazonaws.com/xgboost:latest',\n",
    "              'us-east-1': '811284229777.dkr.ecr.us-east-1.amazonaws.com/xgboost:latest',\n",
    "              'us-east-2': '825641698319.dkr.ecr.us-east-2.amazonaws.com/xgboost:latest',\n",
    "              'eu-west-1': '685385470294.dkr.ecr.eu-west-1.amazonaws.com/xgboost:latest'\n",
    "              } # each region has its XGBoost container\n",
    "my_region = boto3.session.Session().region_name # set the region of the instance\n",
    "print(\"Success - the MySageMakerInstance is in the \" + my_region + \" region. You will use the \" + containers[my_region] + \" container for your SageMaker endpoint.\")"
   ]
  },
  {
   "cell_type": "code",
   "execution_count": 6,
   "id": "a0a560c3-471d-46f1-9627-09723031bdae",
   "metadata": {},
   "outputs": [
    {
     "name": "stdout",
     "output_type": "stream",
     "text": [
      "S3 bucket created successfully\n"
     ]
    }
   ],
   "source": [
    "bucket_name = 'xgboost-imd-youngjin' # <--- CHANGE THIS VARIABLE TO A UNIQUE NAME FOR YOUR BUCKET\n",
    "s3 = boto3.resource('s3')\n",
    "try:\n",
    "    if  my_region == 'us-east-1':\n",
    "      s3.create_bucket(Bucket=bucket_name)\n",
    "    else: \n",
    "      s3.create_bucket(Bucket=bucket_name, CreateBucketConfiguration={ 'LocationConstraint': my_region })\n",
    "    print('S3 bucket created successfully')\n",
    "except Exception as e:\n",
    "    print('S3 error: ',e)"
   ]
  },
  {
   "cell_type": "code",
   "execution_count": 7,
   "id": "fdc87927-cd0c-47d1-8cc5-ed97ae7c09ff",
   "metadata": {},
   "outputs": [
    {
     "name": "stdout",
     "output_type": "stream",
     "text": [
      "Success: downloaded bank_clean.csv.\n",
      "Success: Data loaded into dataframe.\n"
     ]
    }
   ],
   "source": [
    "try:\n",
    "  urllib.request.urlretrieve (\"https://d1.awsstatic.com/tmt/build-train-deploy-machine-learning-model-sagemaker/bank_clean.27f01fbbdf43271788427f3682996ae29ceca05d.csv\", \"bank_clean.csv\")\n",
    "  print('Success: downloaded bank_clean.csv.')\n",
    "except Exception as e:\n",
    "  print('Data load error: ',e)\n",
    "\n",
    "try:\n",
    "  model_data = pd.read_csv('./bank_clean.csv',index_col=0)\n",
    "  print('Success: Data loaded into dataframe.')\n",
    "except Exception as e:\n",
    "    print('Data load error: ',e)"
   ]
  },
  {
   "cell_type": "code",
   "execution_count": 8,
   "id": "60e26d63-6a16-437a-9520-99f8b57a840b",
   "metadata": {},
   "outputs": [
    {
     "name": "stdout",
     "output_type": "stream",
     "text": [
      "(28831, 61) (12357, 61)\n"
     ]
    }
   ],
   "source": [
    "train_data, test_data = np.split(model_data.sample(frac=1, random_state=1729), [int(0.7 * len(model_data))])\n",
    "print(train_data.shape, test_data.shape)"
   ]
  },
  {
   "cell_type": "code",
   "execution_count": 9,
   "id": "8a42722b-19c0-4999-a0a2-a6859c5b1c01",
   "metadata": {},
   "outputs": [],
   "source": [
    "pd.concat([train_data['y_yes'], train_data.drop(['y_no', 'y_yes'], axis=1)], axis=1).to_csv('train.csv', index=False, header=False)\n",
    "boto3.Session().resource('s3').Bucket(bucket_name).Object(os.path.join(prefix, 'train/train.csv')).upload_file('train.csv')\n",
    "\n",
    "s3_input_train = sagemaker.inputs.TrainingInput(s3_data='s3://{}/{}/train'.format(bucket_name, prefix), content_type='csv')\n"
   ]
  },
  {
   "cell_type": "code",
   "execution_count": 10,
   "id": "697dfb6e-2e4c-44db-b0f8-2f98a6f2c09a",
   "metadata": {},
   "outputs": [],
   "source": [
    "sess = sagemaker.Session()\n",
    "xgb = sagemaker.estimator.Estimator(containers[my_region],\n",
    "                                    role, \n",
    "                                    instance_count=2, \n",
    "                                    instance_type='ml.m4.xlarge',\n",
    "                                    output_path='s3://{}/{}/output'.format(bucket_name, prefix),\n",
    "                                    sagemaker_session=sess)\n",
    "                                    \n",
    "xgb.set_hyperparameters(max_depth=5,\n",
    "                        eta=0.2,\n",
    "                        gamma=4,\n",
    "                        min_child_weight=6,\n",
    "                        subsample=0.8,\n",
    "                        silent=0,\n",
    "                        objective='binary:logistic',\n",
    "                        num_round=100)"
   ]
  },
  {
   "cell_type": "code",
   "execution_count": 11,
   "id": "d893d094-097c-4d55-a966-27344135889d",
   "metadata": {},
   "outputs": [
    {
     "name": "stdout",
     "output_type": "stream",
     "text": [
      "2022-06-26 14:38:09 Starting - Starting the training job...\n",
      "2022-06-26 14:38:35 Starting - Preparing the instances for trainingProfilerReport-1656254289: InProgress\n",
      ".........\n",
      "2022-06-26 14:40:05 Downloading - Downloading input data......\n",
      "2022-06-26 14:41:00 Training - Downloading the training image.....\u001b[35mArguments: train\u001b[0m\n",
      "\u001b[35m[2022-06-26:14:41:50:INFO] Running distributed xgboost training.\u001b[0m\n",
      "\u001b[35m[2022-06-26:14:41:50:INFO] Number of hosts: 2, master IP address: 10.0.178.17, host IP address: 10.0.133.147.\u001b[0m\n",
      "\u001b[35m[2022-06-26:14:41:50:INFO] Finished Yarn configuration files setup.\u001b[0m\n",
      "\u001b[35mstarting datanode, logging to /opt/amazon/hadoop/logs/hadoop--datanode-ip-10-0-133-147.ec2.internal.out\u001b[0m\n",
      "\u001b[34mArguments: train\u001b[0m\n",
      "\u001b[34m[2022-06-26:14:41:53:INFO] Running distributed xgboost training.\u001b[0m\n",
      "\u001b[34m[2022-06-26:14:41:53:INFO] Number of hosts: 2, master IP address: 10.0.178.17, host IP address: 10.0.178.17.\u001b[0m\n",
      "\u001b[34m[2022-06-26:14:41:53:INFO] Finished Yarn configuration files setup.\u001b[0m\n",
      "\u001b[35mstarting nodemanager, logging to /opt/amazon/hadoop/logs/yarn--nodemanager-ip-10-0-133-147.ec2.internal.out\u001b[0m\n",
      "\u001b[35m[2022-06-26:14:41:55:INFO] Path /opt/ml/input/data/validation does not exist!\u001b[0m\n",
      "\u001b[35m[2022-06-26:14:41:55:INFO] File size need to be processed in the node: 1.69 mb. Available memory size in the node: {mem_size_str} mb\u001b[0m\n",
      "\n",
      "2022-06-26 14:41:53 Training - Training image download completed. Training in progress.\u001b[34mstarting namenode, logging to /opt/amazon/hadoop/logs/hadoop--namenode-ip-10-0-178-17.ec2.internal.out\u001b[0m\n",
      "\u001b[34mstarting resourcemanager, logging to /opt/amazon/hadoop/logs/yarn--resourcemanager-ip-10-0-178-17.ec2.internal.out\u001b[0m\n",
      "\u001b[34mstarting datanode, logging to /opt/amazon/hadoop/logs/hadoop--datanode-ip-10-0-178-17.ec2.internal.out\u001b[0m\n",
      "\u001b[34mstarting nodemanager, logging to /opt/amazon/hadoop/logs/yarn--nodemanager-ip-10-0-178-17.ec2.internal.out\u001b[0m\n",
      "\u001b[34m[2022-06-26:14:42:08:INFO] Path /opt/ml/input/data/validation does not exist!\u001b[0m\n",
      "\u001b[34m[2022-06-26:14:42:08:INFO] File size need to be processed in the node: 1.69 mb. Available memory size in the node: {mem_size_str} mb\u001b[0m\n",
      "\u001b[34m[2022-06-26:14:42:08:INFO] HTTP server started....\u001b[0m\n",
      "\u001b[34m[2022-06-26:14:42:08:INFO] Memory/core ratio is 7.83\u001b[0m\n",
      "\u001b[34m[2022-06-26:14:42:08:INFO] Yarn setup: number of workers: 2, physical cores per worker: 2, physical memory per worker: 15.66g.\u001b[0m\n",
      "\u001b[34m[2022-06-26:14:42:08:INFO] Yarn job submitted successfully.\u001b[0m\n",
      "\u001b[34m2022-06-26 14:42:09,088 INFO start listen on 10.0.178.17:9091\u001b[0m\n",
      "\u001b[34m/xgboost/dmlc-core/tracker/dmlc_tracker/yarn.py:36: UserWarning: cannot find \"/xgboost/dmlc-core/tracker/dmlc_tracker/../yarn/dmlc-yarn.jar\", I will try to run build\n",
      "  warnings.warn(\"cannot find \\\"%s\\\", I will try to run build\" % YARN_JAR_PATH)\u001b[0m\n",
      "\u001b[34msrc/main/java/org/apache/hadoop/yarn/dmlc/Client.java:37: warning: Signal is internal proprietary API and may be removed in a future release\u001b[0m\n",
      "\u001b[34mimport sun.misc.Signal;\n",
      "               ^\u001b[0m\n",
      "\u001b[34msrc/main/java/org/apache/hadoop/yarn/dmlc/Client.java:38: warning: SignalHandler is internal proprietary API and may be removed in a future release\u001b[0m\n",
      "\u001b[34mimport sun.misc.SignalHandler;\n",
      "               ^\u001b[0m\n",
      "\u001b[34msrc/main/java/org/apache/hadoop/yarn/dmlc/Client.java:276: warning: Signal is internal proprietary API and may be removed in a future release\n",
      "        Signal intSignal = new Signal(\"INT\");\n",
      "        ^\u001b[0m\n",
      "\u001b[34msrc/main/java/org/apache/hadoop/yarn/dmlc/Client.java:276: warning: Signal is internal proprietary API and may be removed in a future release\n",
      "        Signal intSignal = new Signal(\"INT\");\n",
      "                               ^\u001b[0m\n",
      "\u001b[34msrc/main/java/org/apache/hadoop/yarn/dmlc/Client.java:277: warning: Signal is internal proprietary API and may be removed in a future release\n",
      "        Signal.handle(intSignal, handler);\n",
      "        ^\u001b[0m\n",
      "\u001b[34msrc/main/java/org/apache/hadoop/yarn/dmlc/Client.java:332: warning: SignalHandler is internal proprietary API and may be removed in a future release\n",
      "    class CtrlCHandler implements SignalHandler{\n",
      "                                  ^\u001b[0m\n",
      "\u001b[34msrc/main/java/org/apache/hadoop/yarn/dmlc/Client.java:339: warning: Signal is internal proprietary API and may be removed in a future release\n",
      "        public void handle(Signal signal){\n",
      "                           ^\u001b[0m\n",
      "\u001b[34mNote: src/main/java/org/apache/hadoop/yarn/dmlc/ApplicationMaster.java uses unchecked or unsafe operations.\u001b[0m\n",
      "\u001b[34mNote: Recompile with -Xlint:unchecked for details.\u001b[0m\n",
      "\u001b[34m7 warnings\u001b[0m\n",
      "\u001b[34m22/06/26 14:42:16 INFO client.RMProxy: Connecting to ResourceManager at algo-1/10.0.178.17:8032\u001b[0m\n",
      "\u001b[34m22/06/26 14:42:16 INFO dmlc.Client: HDFS temp directory do not exist, creating.. /tmp\u001b[0m\n",
      "\u001b[34m22/06/26 14:42:17 INFO dmlc.Client: jobname=DMLC[nworker=2]:python3,username=root\u001b[0m\n",
      "\u001b[34m22/06/26 14:42:17 INFO dmlc.Client: Submitting application application_1656254524640_0001\u001b[0m\n",
      "\u001b[34m22/06/26 14:42:18 INFO impl.YarnClientImpl: Submitted application application_1656254524640_0001\u001b[0m\n",
      "\u001b[34m2022-06-26 14:42:26,899 INFO @tracker All of 2 nodes getting started\u001b[0m\n",
      "\u001b[34m2022-06-26 14:42:27,149 INFO [0]#011train-error:0.100343\u001b[0m\n",
      "\u001b[34m2022-06-26 14:42:27,330 INFO [1]#011train-error:0.099233\u001b[0m\n",
      "\u001b[34m2022-06-26 14:42:27,511 INFO [2]#011train-error:0.099476\u001b[0m\n",
      "\u001b[34m2022-06-26 14:42:27,695 INFO [3]#011train-error:0.099892\u001b[0m\n",
      "\u001b[34m2022-06-26 14:42:27,870 INFO [4]#011train-error:0.099788\u001b[0m\n",
      "\u001b[34m2022-06-26 14:42:28,062 INFO [5]#011train-error:0.099719\u001b[0m\n",
      "\u001b[34m2022-06-26 14:42:28,236 INFO [6]#011train-error:0.099719\u001b[0m\n",
      "\u001b[34m2022-06-26 14:42:28,410 INFO [7]#011train-error:0.099684\u001b[0m\n",
      "\u001b[34m2022-06-26 14:42:28,585 INFO [8]#011train-error:0.099684\u001b[0m\n",
      "\u001b[34m2022-06-26 14:42:28,772 INFO [9]#011train-error:0.099233\u001b[0m\n",
      "\u001b[34m2022-06-26 14:42:28,938 INFO [10]#011train-error:0.099129\u001b[0m\n",
      "\u001b[34m2022-06-26 14:42:29,114 INFO [11]#011train-error:0.098783\u001b[0m\n",
      "\u001b[34m2022-06-26 14:42:29,295 INFO [12]#011train-error:0.098713\u001b[0m\n",
      "\u001b[34m2022-06-26 14:42:29,462 INFO [13]#011train-error:0.099095\u001b[0m\n",
      "\u001b[34m2022-06-26 14:42:29,631 INFO [14]#011train-error:0.098713\u001b[0m\n",
      "\u001b[34m2022-06-26 14:42:29,798 INFO [15]#011train-error:0.098887\u001b[0m\n",
      "\u001b[34m2022-06-26 14:42:29,978 INFO [16]#011train-error:0.098401\u001b[0m\n",
      "\u001b[34m2022-06-26 14:42:30,154 INFO [17]#011train-error:0.098262\u001b[0m\n",
      "\u001b[34m2022-06-26 14:42:30,329 INFO [18]#011train-error:0.098193\u001b[0m\n",
      "\u001b[34m2022-06-26 14:42:30,494 INFO [19]#011train-error:0.098262\u001b[0m\n",
      "\u001b[34m2022-06-26 14:42:30,714 INFO [20]#011train-error:0.098193\u001b[0m\n",
      "\u001b[34m2022-06-26 14:42:30,886 INFO [21]#011train-error:0.097985\u001b[0m\n",
      "\u001b[34m2022-06-26 14:42:31,050 INFO [22]#011train-error:0.098089\u001b[0m\n",
      "\u001b[34m2022-06-26 14:42:31,214 INFO [23]#011train-error:0.098054\u001b[0m\n",
      "\u001b[34m2022-06-26 14:42:31,430 INFO [24]#011train-error:0.098228\u001b[0m\n",
      "\u001b[34m2022-06-26 14:42:31,641 INFO [25]#011train-error:0.097846\u001b[0m\n",
      "\u001b[34m2022-06-26 14:42:31,853 INFO [26]#011train-error:0.097673\u001b[0m\n",
      "\u001b[34m2022-06-26 14:42:32,018 INFO [27]#011train-error:0.097742\u001b[0m\n",
      "\u001b[34m2022-06-26 14:42:32,187 INFO [28]#011train-error:0.097673\u001b[0m\n",
      "\u001b[34m2022-06-26 14:42:32,398 INFO [29]#011train-error:0.097673\u001b[0m\n",
      "\u001b[34m2022-06-26 14:42:32,562 INFO [30]#011train-error:0.097326\u001b[0m\n",
      "\u001b[34m2022-06-26 14:42:32,726 INFO [31]#011train-error:0.097152\u001b[0m\n",
      "\u001b[34m2022-06-26 14:42:32,902 INFO [32]#011train-error:0.097187\u001b[0m\n",
      "\u001b[34m2022-06-26 14:42:33,124 INFO [33]#011train-error:0.097048\u001b[0m\n",
      "\u001b[34m2022-06-26 14:42:33,294 INFO [34]#011train-error:0.097014\u001b[0m\n",
      "\u001b[34m2022-06-26 14:42:33,506 INFO [35]#011train-error:0.097014\u001b[0m\n",
      "\u001b[34m2022-06-26 14:42:33,718 INFO [36]#011train-error:0.097048\u001b[0m\n",
      "\u001b[34m2022-06-26 14:42:33,929 INFO [37]#011train-error:0.09691\u001b[0m\n",
      "\u001b[34m2022-06-26 14:42:34,138 INFO [38]#011train-error:0.097048\u001b[0m\n",
      "\u001b[34m2022-06-26 14:42:34,306 INFO [39]#011train-error:0.09691\u001b[0m\n",
      "\u001b[34m2022-06-26 14:42:34,518 INFO [40]#011train-error:0.096806\u001b[0m\n",
      "\u001b[34m2022-06-26 14:42:34,729 INFO [41]#011train-error:0.097152\u001b[0m\n",
      "\u001b[34m2022-06-26 14:42:34,898 INFO [42]#011train-error:0.096944\u001b[0m\n",
      "\u001b[34m2022-06-26 14:42:35,122 INFO [43]#011train-error:0.096979\u001b[0m\n",
      "\u001b[34m2022-06-26 14:42:35,294 INFO [44]#011train-error:0.096736\u001b[0m\n",
      "\u001b[34m2022-06-26 14:42:35,502 INFO [45]#011train-error:0.096459\u001b[0m\n",
      "\u001b[34m2022-06-26 14:42:35,674 INFO [46]#011train-error:0.096528\u001b[0m\n",
      "\u001b[34m2022-06-26 14:42:35,889 INFO [47]#011train-error:0.096563\u001b[0m\n",
      "\u001b[34m2022-06-26 14:42:36,058 INFO [48]#011train-error:0.096493\u001b[0m\n",
      "\u001b[34m2022-06-26 14:42:36,273 INFO [49]#011train-error:0.096493\u001b[0m\n",
      "\u001b[34m2022-06-26 14:42:36,438 INFO [50]#011train-error:0.096667\u001b[0m\n",
      "\u001b[34m2022-06-26 14:42:36,610 INFO [51]#011train-error:0.096701\u001b[0m\n",
      "\u001b[34m2022-06-26 14:42:36,821 INFO [52]#011train-error:0.096597\u001b[0m\n",
      "\u001b[34m2022-06-26 14:42:36,990 INFO [53]#011train-error:0.096632\u001b[0m\n",
      "\u001b[34m2022-06-26 14:42:37,162 INFO [54]#011train-error:0.096563\u001b[0m\n",
      "\u001b[34m2022-06-26 14:42:37,369 INFO [55]#011train-error:0.096493\u001b[0m\n",
      "\u001b[34m2022-06-26 14:42:37,550 INFO [56]#011train-error:0.096667\u001b[0m\n",
      "\u001b[34m2022-06-26 14:42:37,765 INFO [57]#011train-error:0.096493\u001b[0m\n",
      "\u001b[34m2022-06-26 14:42:37,930 INFO [58]#011train-error:0.096389\u001b[0m\n",
      "\u001b[34m2022-06-26 14:42:38,146 INFO [59]#011train-error:0.096459\u001b[0m\n",
      "\u001b[34m2022-06-26 14:42:38,310 INFO [60]#011train-error:0.096493\u001b[0m\n",
      "\u001b[34m2022-06-26 14:42:38,474 INFO [61]#011train-error:0.09684\u001b[0m\n",
      "\u001b[34m2022-06-26 14:42:38,646 INFO [62]#011train-error:0.096701\u001b[0m\n",
      "\u001b[34m2022-06-26 14:42:38,853 INFO [63]#011train-error:0.096701\u001b[0m\n",
      "\u001b[34m2022-06-26 14:42:39,026 INFO [64]#011train-error:0.096493\u001b[0m\n",
      "\u001b[34m2022-06-26 14:42:39,198 INFO [65]#011train-error:0.09632\u001b[0m\n",
      "\u001b[34m2022-06-26 14:42:39,406 INFO [66]#011train-error:0.096424\u001b[0m\n",
      "\u001b[34m2022-06-26 14:42:39,625 INFO [67]#011train-error:0.096216\u001b[0m\n",
      "\u001b[34m2022-06-26 14:42:39,798 INFO [68]#011train-error:0.096112\u001b[0m\n",
      "\u001b[34m2022-06-26 14:42:39,977 INFO [69]#011train-error:0.096251\u001b[0m\n",
      "\u001b[34m2022-06-26 14:42:40,194 INFO [70]#011train-error:0.096216\u001b[0m\n",
      "\u001b[34m2022-06-26 14:42:40,405 INFO [71]#011train-error:0.096008\u001b[0m\n",
      "\u001b[34m2022-06-26 14:42:40,621 INFO [72]#011train-error:0.096077\u001b[0m\n",
      "\u001b[34m2022-06-26 14:42:40,833 INFO [73]#011train-error:0.096008\u001b[0m\n",
      "\u001b[34m2022-06-26 14:42:41,050 INFO [74]#011train-error:0.096112\u001b[0m\n",
      "\u001b[34m2022-06-26 14:42:41,265 INFO [75]#011train-error:0.096042\u001b[0m\n",
      "\u001b[34m2022-06-26 14:42:41,434 INFO [76]#011train-error:0.095869\u001b[0m\n",
      "\u001b[34m2022-06-26 14:42:41,602 INFO [77]#011train-error:0.095834\u001b[0m\n",
      "\u001b[34m2022-06-26 14:42:41,813 INFO [78]#011train-error:0.09573\u001b[0m\n",
      "\u001b[34m2022-06-26 14:42:41,990 INFO [79]#011train-error:0.0958\u001b[0m\n",
      "\u001b[34m2022-06-26 14:42:42,158 INFO [80]#011train-error:0.09573\u001b[0m\n",
      "\u001b[34m2022-06-26 14:42:42,330 INFO [81]#011train-error:0.095661\u001b[0m\n",
      "\u001b[34m2022-06-26 14:42:42,506 INFO [82]#011train-error:0.095626\u001b[0m\n",
      "\u001b[34m2022-06-26 14:42:42,678 INFO [83]#011train-error:0.095626\u001b[0m\n",
      "\u001b[34m2022-06-26 14:42:42,890 INFO [84]#011train-error:0.095522\u001b[0m\n",
      "\u001b[34m2022-06-26 14:42:43,054 INFO [85]#011train-error:0.095453\u001b[0m\n",
      "\u001b[34m2022-06-26 14:42:43,222 INFO [86]#011train-error:0.095418\u001b[0m\n",
      "\u001b[34m2022-06-26 14:42:43,394 INFO [87]#011train-error:0.095314\u001b[0m\n",
      "\u001b[34m2022-06-26 14:42:43,574 INFO [88]#011train-error:0.095349\u001b[0m\n",
      "\u001b[34m2022-06-26 14:42:43,794 INFO [89]#011train-error:0.09521\u001b[0m\n",
      "\u001b[34m2022-06-26 14:42:43,966 INFO [90]#011train-error:0.095175\u001b[0m\n",
      "\u001b[34m2022-06-26 14:42:44,198 INFO [91]#011train-error:0.095106\u001b[0m\n",
      "\u001b[34m2022-06-26 14:42:44,417 INFO [92]#011train-error:0.095106\u001b[0m\n",
      "\u001b[34m2022-06-26 14:42:44,634 INFO [93]#011train-error:0.095106\u001b[0m\n",
      "\u001b[34m2022-06-26 14:42:44,846 INFO [94]#011train-error:0.094967\u001b[0m\n",
      "\u001b[34m2022-06-26 14:42:45,018 INFO [95]#011train-error:0.094863\u001b[0m\n",
      "\u001b[34m2022-06-26 14:42:45,186 INFO [96]#011train-error:0.094933\u001b[0m\n",
      "\u001b[34m2022-06-26 14:42:45,359 INFO [97]#011train-error:0.094898\u001b[0m\n",
      "\u001b[34m2022-06-26 14:42:45,534 INFO [98]#011train-error:0.094898\u001b[0m\n",
      "\u001b[34m2022-06-26 14:42:45,706 INFO [99]#011train-error:0.094933\u001b[0m\n",
      "\u001b[34m2022-06-26 14:42:45,708 INFO Finished training\u001b[0m\n",
      "\u001b[34m2022-06-26 14:42:45,708 INFO Finished training\u001b[0m\n",
      "\u001b[34m2022-06-26 14:42:45,709 INFO @tracker All nodes finishes job\u001b[0m\n",
      "\u001b[34m2022-06-26 14:42:45,709 INFO @tracker 18.809974908828735 secs between node start and job finish\u001b[0m\n",
      "\u001b[35m[2022-06-26:14:43:25:INFO] Master host is not alive. Training might have finished. Shutting down.... Check the logs for algo-1 machine.\u001b[0m\n",
      "\n",
      "2022-06-26 14:43:43 Uploading - Uploading generated training model\n",
      "2022-06-26 14:43:43 Completed - Training job completed\n",
      "Training seconds: 436\n",
      "Billable seconds: 436\n"
     ]
    }
   ],
   "source": [
    "xgb.fit({'train': s3_input_train})"
   ]
  },
  {
   "cell_type": "code",
   "execution_count": 12,
   "id": "11d28f8e-716b-44a7-9ed6-fdb7401e776d",
   "metadata": {},
   "outputs": [
    {
     "name": "stdout",
     "output_type": "stream",
     "text": [
      "----------!"
     ]
    }
   ],
   "source": [
    "xgb_predictor = xgb.deploy(initial_instance_count=1,\n",
    "                           instance_type='ml.m4.xlarge')"
   ]
  },
  {
   "cell_type": "code",
   "execution_count": 13,
   "id": "1a8a2512-9567-4df8-82f1-93c747de7ea0",
   "metadata": {},
   "outputs": [
    {
     "name": "stdout",
     "output_type": "stream",
     "text": [
      "(12357,)\n"
     ]
    }
   ],
   "source": [
    "test_data_array = test_data.drop(['y_no', 'y_yes'], axis=1).values #load the data into an array\n",
    "#xgb_predictor.content_type = 'text/csv' # set the data type for an inference\n",
    "xgb_predictor.serializer = sagemaker.serializers.CSVSerializer() # set the serializer type\n",
    "predictions = xgb_predictor.predict(test_data_array).decode('utf-8') # predict!\n",
    "predictions_array = np.fromstring(predictions[1:], sep=',') # and turn the prediction into an array\n",
    "print(predictions_array.shape)"
   ]
  },
  {
   "cell_type": "code",
   "execution_count": 14,
   "id": "61530802-3736-42e7-b50e-921ad74aa945",
   "metadata": {},
   "outputs": [
    {
     "name": "stdout",
     "output_type": "stream",
     "text": [
      "\n",
      "Overall Classification Rate: 89.5%\n",
      "\n",
      "Predicted      No Purchase    Purchase\n",
      "Observed\n",
      "No Purchase    90% (10770)    36% (166)\n",
      "Purchase        10% (1132)     64% (289) \n",
      "\n"
     ]
    }
   ],
   "source": [
    "cm = pd.crosstab(index=test_data['y_yes'], columns=np.round(predictions_array), rownames=['Observed'], colnames=['Predicted'])\n",
    "tn = cm.iloc[0,0]; fn = cm.iloc[1,0]; tp = cm.iloc[1,1]; fp = cm.iloc[0,1]; p = (tp+tn)/(tp+tn+fp+fn)*100\n",
    "print(\"\\n{0:<20}{1:<4.1f}%\\n\".format(\"Overall Classification Rate: \", p))\n",
    "print(\"{0:<15}{1:<15}{2:>8}\".format(\"Predicted\", \"No Purchase\", \"Purchase\"))\n",
    "print(\"Observed\")\n",
    "print(\"{0:<15}{1:<2.0f}% ({2:<}){3:>6.0f}% ({4:<})\".format(\"No Purchase\", tn/(tn+fn)*100,tn, fp/(tp+fp)*100, fp))\n",
    "print(\"{0:<16}{1:<1.0f}% ({2:<}){3:>7.0f}% ({4:<}) \\n\".format(\"Purchase\", fn/(tn+fn)*100,fn, tp/(tp+fp)*100, tp))"
   ]
  },
  {
   "cell_type": "code",
   "execution_count": 15,
   "id": "c894b4bf-cfa7-4d38-b835-dd8b042bdb98",
   "metadata": {},
   "outputs": [
    {
     "name": "stderr",
     "output_type": "stream",
     "text": [
      "The endpoint attribute has been renamed in sagemaker>=2.\n",
      "See: https://sagemaker.readthedocs.io/en/stable/v2.html for details.\n"
     ]
    },
    {
     "data": {
      "text/plain": [
       "[{'ResponseMetadata': {'RequestId': 'PXH29F2XRF3Q75X8',\n",
       "   'HostId': 'plPUkAMvMEVAsoEexYfENWMqJL3AnTWyjDydBiWcB4bAjVPWYW+HDIEzPDhNmYDhCZjZ4U/FbAs=',\n",
       "   'HTTPStatusCode': 200,\n",
       "   'HTTPHeaders': {'x-amz-id-2': 'plPUkAMvMEVAsoEexYfENWMqJL3AnTWyjDydBiWcB4bAjVPWYW+HDIEzPDhNmYDhCZjZ4U/FbAs=',\n",
       "    'x-amz-request-id': 'PXH29F2XRF3Q75X8',\n",
       "    'date': 'Sun, 26 Jun 2022 14:58:00 GMT',\n",
       "    'content-type': 'application/xml',\n",
       "    'transfer-encoding': 'chunked',\n",
       "    'server': 'AmazonS3',\n",
       "    'connection': 'close'},\n",
       "   'RetryAttempts': 0},\n",
       "  'Deleted': [{'Key': 'sagemaker/DEMO-xgboost-dm/output/xgboost-2022-06-26-14-38-09-088/profiler-output/system/incremental/2022062614/1656254460.algo-1.json'},\n",
       "   {'Key': 'sagemaker/DEMO-xgboost-dm/output/xgboost-2022-06-26-14-38-09-088/profiler-output/system/incremental/2022062614/1656254520.algo-2.json'},\n",
       "   {'Key': 'sagemaker/DEMO-xgboost-dm/output/xgboost-2022-06-26-14-38-09-088/profiler-output/system/incremental/2022062614/1656254460.algo-2.json'},\n",
       "   {'Key': 'sagemaker/DEMO-xgboost-dm/output/xgboost-2022-06-26-14-38-09-088/profiler-output/system/training_job_end.ts'},\n",
       "   {'Key': 'sagemaker/DEMO-xgboost-dm/output/xgboost-2022-06-26-14-38-09-088/rule-output/ProfilerReport-1656254289/profiler-output/profiler-reports/OverallSystemUsage.json'},\n",
       "   {'Key': 'sagemaker/DEMO-xgboost-dm/output/xgboost-2022-06-26-14-38-09-088/rule-output/ProfilerReport-1656254289/profiler-output/profiler-reports/IOBottleneck.json'},\n",
       "   {'Key': 'sagemaker/DEMO-xgboost-dm/output/xgboost-2022-06-26-14-38-09-088/profiler-output/system/incremental/2022062614/1656254580.algo-1.json'},\n",
       "   {'Key': 'sagemaker/DEMO-xgboost-dm/output/xgboost-2022-06-26-14-38-09-088/rule-output/ProfilerReport-1656254289/profiler-output/profiler-reports/LowGPUUtilization.json'},\n",
       "   {'Key': 'sagemaker/DEMO-xgboost-dm/output/xgboost-2022-06-26-14-38-09-088/profiler-output/system/incremental/2022062614/1656254400.algo-1.json'},\n",
       "   {'Key': 'sagemaker/DEMO-xgboost-dm/output/xgboost-2022-06-26-14-38-09-088/rule-output/ProfilerReport-1656254289/profiler-output/profiler-reports/LoadBalancing.json'},\n",
       "   {'Key': 'sagemaker/DEMO-xgboost-dm/output/xgboost-2022-06-26-14-38-09-088/rule-output/ProfilerReport-1656254289/profiler-output/profiler-reports/GPUMemoryIncrease.json'},\n",
       "   {'Key': 'sagemaker/DEMO-xgboost-dm/output/xgboost-2022-06-26-14-38-09-088/profiler-output/system/incremental/2022062614/1656254520.algo-1.json'},\n",
       "   {'Key': 'sagemaker/DEMO-xgboost-dm/train/train.csv'},\n",
       "   {'Key': 'sagemaker/DEMO-xgboost-dm/output/xgboost-2022-06-26-14-38-09-088/profiler-output/system/incremental/2022062614/1656254400.algo-2.json'},\n",
       "   {'Key': 'sagemaker/DEMO-xgboost-dm/output/xgboost-2022-06-26-14-38-09-088/rule-output/ProfilerReport-1656254289/profiler-output/profiler-reports/BatchSize.json'},\n",
       "   {'Key': 'sagemaker/DEMO-xgboost-dm/output/xgboost-2022-06-26-14-38-09-088/rule-output/ProfilerReport-1656254289/profiler-output/profiler-reports/MaxInitializationTime.json'},\n",
       "   {'Key': 'sagemaker/DEMO-xgboost-dm/output/xgboost-2022-06-26-14-38-09-088/rule-output/ProfilerReport-1656254289/profiler-output/profiler-report.ipynb'},\n",
       "   {'Key': 'sagemaker/DEMO-xgboost-dm/output/xgboost-2022-06-26-14-38-09-088/rule-output/ProfilerReport-1656254289/profiler-output/profiler-reports/Dataloader.json'},\n",
       "   {'Key': 'sagemaker/DEMO-xgboost-dm/output/xgboost-2022-06-26-14-38-09-088/rule-output/ProfilerReport-1656254289/profiler-output/profiler-reports/CPUBottleneck.json'},\n",
       "   {'Key': 'sagemaker/DEMO-xgboost-dm/output/xgboost-2022-06-26-14-38-09-088/rule-output/ProfilerReport-1656254289/profiler-output/profiler-reports/StepOutlier.json'},\n",
       "   {'Key': 'sagemaker/DEMO-xgboost-dm/output/xgboost-2022-06-26-14-38-09-088/output/model.tar.gz'},\n",
       "   {'Key': 'sagemaker/DEMO-xgboost-dm/output/xgboost-2022-06-26-14-38-09-088/profiler-output/framework/training_job_end.ts'},\n",
       "   {'Key': 'sagemaker/DEMO-xgboost-dm/output/xgboost-2022-06-26-14-38-09-088/profiler-output/system/incremental/2022062614/1656254580.algo-2.json'},\n",
       "   {'Key': 'sagemaker/DEMO-xgboost-dm/output/xgboost-2022-06-26-14-38-09-088/rule-output/ProfilerReport-1656254289/profiler-output/profiler-report.html'},\n",
       "   {'Key': 'sagemaker/DEMO-xgboost-dm/output/xgboost-2022-06-26-14-38-09-088/rule-output/ProfilerReport-1656254289/profiler-output/profiler-reports/OverallFrameworkMetrics.json'}]}]"
      ]
     },
     "execution_count": 15,
     "metadata": {},
     "output_type": "execute_result"
    }
   ],
   "source": [
    "sagemaker.Session().delete_endpoint(xgb_predictor.endpoint)\n",
    "bucket_to_delete = boto3.resource('s3').Bucket(bucket_name)\n",
    "bucket_to_delete.objects.all().delete()"
   ]
  },
  {
   "cell_type": "code",
   "execution_count": 22,
   "id": "31482378-cc9a-4c6a-ba54-af6187c27737",
   "metadata": {},
   "outputs": [
    {
     "name": "stdout",
     "output_type": "stream",
     "text": [
      "2022-06-26 15:06:59    5383698 bank_clean.csv\n"
     ]
    }
   ],
   "source": [
    "!aws s3 ls s3://xgboost-imd-youngjin/"
   ]
  },
  {
   "cell_type": "code",
   "execution_count": null,
   "id": "b777fb73-46bd-4a08-ba1e-9e7e4a2c9d58",
   "metadata": {},
   "outputs": [],
   "source": []
  }
 ],
 "metadata": {
  "kernelspec": {
   "display_name": "conda_python3",
   "language": "python",
   "name": "conda_python3"
  },
  "language_info": {
   "codemirror_mode": {
    "name": "ipython",
    "version": 3
   },
   "file_extension": ".py",
   "mimetype": "text/x-python",
   "name": "python",
   "nbconvert_exporter": "python",
   "pygments_lexer": "ipython3",
   "version": "3.8.12"
  }
 },
 "nbformat": 4,
 "nbformat_minor": 5
}
